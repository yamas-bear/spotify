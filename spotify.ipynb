{
 "cells": [
  {
   "cell_type": "code",
   "execution_count": 2,
   "metadata": {},
   "outputs": [
    {
     "name": "stdout",
     "output_type": "stream",
     "text": [
      "Collecting spotipy\n",
      "  Downloading spotipy-2.16.1-py3-none-any.whl (24 kB)\n",
      "Requirement already satisfied: six>=1.10.0 in /opt/anaconda3/lib/python3.7/site-packages (from spotipy) (1.12.0)\n",
      "Requirement already satisfied: requests>=2.20.0 in /opt/anaconda3/lib/python3.7/site-packages (from spotipy) (2.22.0)\n",
      "Requirement already satisfied: urllib3!=1.25.0,!=1.25.1,<1.26,>=1.21.1 in /opt/anaconda3/lib/python3.7/site-packages (from requests>=2.20.0->spotipy) (1.24.2)\n",
      "Requirement already satisfied: chardet<3.1.0,>=3.0.2 in /opt/anaconda3/lib/python3.7/site-packages (from requests>=2.20.0->spotipy) (3.0.4)\n",
      "Requirement already satisfied: idna<2.9,>=2.5 in /opt/anaconda3/lib/python3.7/site-packages (from requests>=2.20.0->spotipy) (2.8)\n",
      "Requirement already satisfied: certifi>=2017.4.17 in /opt/anaconda3/lib/python3.7/site-packages (from requests>=2.20.0->spotipy) (2019.9.11)\n",
      "Installing collected packages: spotipy\n",
      "Successfully installed spotipy-2.16.1\n",
      "\u001b[33mWARNING: You are using pip version 20.3.1; however, version 20.3.3 is available.\n",
      "You should consider upgrading via the '/opt/anaconda3/bin/python -m pip install --upgrade pip' command.\u001b[0m\n"
     ]
    }
   ],
   "source": [
    "!pip install spotipy"
   ]
  },
  {
   "cell_type": "code",
   "execution_count": 41,
   "metadata": {},
   "outputs": [],
   "source": [
    "import pandas as pd\n",
    "import spotipy \n",
    "from spotipy.oauth2 import SpotifyClientCredentials\n",
    "import time\n",
    "import matplotlib.pyplot as plt\n",
    "%matplotlib inline"
   ]
  },
  {
   "cell_type": "code",
   "execution_count": 14,
   "metadata": {},
   "outputs": [],
   "source": [
    "client_id=    'e6778487ca914c3991f78eb0432e3709'\n",
    "client_secret=''"
   ]
  },
  {
   "cell_type": "code",
   "execution_count": 18,
   "metadata": {},
   "outputs": [],
   "source": [
    "client_credentials_manager = SpotifyClientCredentials(client_id,client_secret)"
   ]
  },
  {
   "cell_type": "code",
   "execution_count": 19,
   "metadata": {},
   "outputs": [],
   "source": [
    "sp = spotipy.Spotify(client_credentials_manager=client_credentials_manager)"
   ]
  },
  {
   "cell_type": "code",
   "execution_count": 20,
   "metadata": {},
   "outputs": [
    {
     "data": {
      "text/plain": [
       "<spotipy.client.Spotify at 0x7f799a1a3290>"
      ]
     },
     "execution_count": 20,
     "metadata": {},
     "output_type": "execute_result"
    }
   ],
   "source": [
    "sp"
   ]
  },
  {
   "cell_type": "code",
   "execution_count": 21,
   "metadata": {},
   "outputs": [],
   "source": [
    "def getTrackIDs(user,playlist_id):\n",
    "    ids = []\n",
    "    playlist = sp.user_playlist(user,playlist_id)\n",
    "    for item in playlist['tracks']['items']:\n",
    "        track = item['track']\n",
    "        ids.append(track['id'])\n",
    "    return ids\n",
    "\n",
    "ids = getTrackIDs('ngj93u4m4sjssmol1jxiwoz52','37i9dQZF1EMdRmPfmX83b8')"
   ]
  },
  {
   "cell_type": "code",
   "execution_count": 22,
   "metadata": {},
   "outputs": [
    {
     "name": "stdout",
     "output_type": "stream",
     "text": [
      "100\n"
     ]
    }
   ],
   "source": [
    "print(len(ids))"
   ]
  },
  {
   "cell_type": "code",
   "execution_count": 36,
   "metadata": {},
   "outputs": [],
   "source": [
    "def getTrackFeatures(id):\n",
    "    meta = sp.track(id)\n",
    "    features = sp.audio_features(id)\n",
    "    \n",
    "    #meta\n",
    "    #曲名\n",
    "    name = meta['name']\n",
    "    #アルバム名\n",
    "    album = meta['album']['name']\n",
    "    #アーティスト名\n",
    "    artist = meta['album']['artists'][0]['name']\n",
    "    #リリース日\n",
    "    release_date = meta['album']['release_date']\n",
    "    #曲の長さ(millseconds)\n",
    "    length = meta['duration_ms']\n",
    "    #人気度\n",
    "    popularity = meta['popularity']\n",
    "    \n",
    "    #features\n",
    "    #アコースティック度(0.0-1.0 1.0がアコースティック度高いことを示す)\n",
    "    acousticness = features[0]['acousticness']\n",
    "    #ダンス度（テンポ、リズムの一定感、ビートの強さなどから算出）\n",
    "    danceability = features[0]['danceability']\n",
    "    #エネルギー　fast,loud,noisyであれば1に近づく\n",
    "    energy = features[0]['energy']\n",
    "    #インスト感　0.0 - 1.0 0.5以上でインスト\n",
    "    instrumentalness = features[0]['instrumentalness']\n",
    "    #曲調を示す。メジャーが1、マイナーが0\n",
    "    mode = features[0]['mode']\n",
    "    #ライブさ 0.8以上でライブトラックの可能性大\n",
    "    liveness = features[0]['liveness']\n",
    "    #音の大きさ\n",
    "    loudness = features[0]['loudness']\n",
    "    #スピーチ度（トークショー、オーディオブック、ポエムなどは1に近くなる）\n",
    "    speechiness = features[0]['speechiness']\n",
    "    #曲のテンポ（BPMが数字が入る）\n",
    "    tempo = features[0]['tempo']\n",
    "    #拍子\n",
    "    time_signature = features[0]['time_signature']\n",
    "    #曲のポジティブ度（1がポジティブ、0がネガティブ）\n",
    "    valence = features[0]['valence']\n",
    "    \n",
    "    track = [name,album,artist,release_date,length,mode,popularity,danceability,acousticness,energy,instrumentalness,liveness,loudness,speechiness,tempo,time_signature,valence]\n",
    "    return track"
   ]
  },
  {
   "cell_type": "code",
   "execution_count": 37,
   "metadata": {},
   "outputs": [],
   "source": [
    "tracks = []\n",
    "for i in range(len(ids)):\n",
    "    time.sleep(.5)\n",
    "    track = getTrackFeatures(ids[i])\n",
    "    tracks.append(track)\n",
    "   \n",
    "# create dataset\n",
    "df = pd.DataFrame(tracks,columns=['name','album','artist','release_date','length','mode','popularity','danceability','acousticness','energy','instrumentalness','liveness','loudness','speechiness','tempo','time_signature','valence'])"
   ]
  },
  {
   "cell_type": "code",
   "execution_count": 38,
   "metadata": {},
   "outputs": [
    {
     "data": {
      "text/html": [
       "<div>\n",
       "<style scoped>\n",
       "    .dataframe tbody tr th:only-of-type {\n",
       "        vertical-align: middle;\n",
       "    }\n",
       "\n",
       "    .dataframe tbody tr th {\n",
       "        vertical-align: top;\n",
       "    }\n",
       "\n",
       "    .dataframe thead th {\n",
       "        text-align: right;\n",
       "    }\n",
       "</style>\n",
       "<table border=\"1\" class=\"dataframe\">\n",
       "  <thead>\n",
       "    <tr style=\"text-align: right;\">\n",
       "      <th></th>\n",
       "      <th>name</th>\n",
       "      <th>album</th>\n",
       "      <th>artist</th>\n",
       "      <th>release_date</th>\n",
       "      <th>length</th>\n",
       "      <th>mode</th>\n",
       "      <th>popularity</th>\n",
       "      <th>danceability</th>\n",
       "      <th>acousticness</th>\n",
       "      <th>energy</th>\n",
       "      <th>instrumentalness</th>\n",
       "      <th>liveness</th>\n",
       "      <th>loudness</th>\n",
       "      <th>speechiness</th>\n",
       "      <th>tempo</th>\n",
       "      <th>time_signature</th>\n",
       "      <th>valence</th>\n",
       "    </tr>\n",
       "  </thead>\n",
       "  <tbody>\n",
       "    <tr>\n",
       "      <td>0</td>\n",
       "      <td>You</td>\n",
       "      <td>You</td>\n",
       "      <td>Axol</td>\n",
       "      <td>2016-11-06</td>\n",
       "      <td>198750</td>\n",
       "      <td>1</td>\n",
       "      <td>53</td>\n",
       "      <td>0.702</td>\n",
       "      <td>0.01350</td>\n",
       "      <td>0.911</td>\n",
       "      <td>0.020400</td>\n",
       "      <td>0.1730</td>\n",
       "      <td>-3.301</td>\n",
       "      <td>0.0375</td>\n",
       "      <td>128.005</td>\n",
       "      <td>4</td>\n",
       "      <td>0.431</td>\n",
       "    </tr>\n",
       "    <tr>\n",
       "      <td>1</td>\n",
       "      <td>Make you happy</td>\n",
       "      <td>Make you happy</td>\n",
       "      <td>NiziU</td>\n",
       "      <td>2020-06-30</td>\n",
       "      <td>184520</td>\n",
       "      <td>1</td>\n",
       "      <td>74</td>\n",
       "      <td>0.780</td>\n",
       "      <td>0.04360</td>\n",
       "      <td>0.885</td>\n",
       "      <td>0.000028</td>\n",
       "      <td>0.1050</td>\n",
       "      <td>-3.745</td>\n",
       "      <td>0.1220</td>\n",
       "      <td>160.087</td>\n",
       "      <td>4</td>\n",
       "      <td>0.808</td>\n",
       "    </tr>\n",
       "    <tr>\n",
       "      <td>2</td>\n",
       "      <td>グランマのレシピ</td>\n",
       "      <td>グランマのレシピ</td>\n",
       "      <td>Mai</td>\n",
       "      <td>2020-08-15</td>\n",
       "      <td>223064</td>\n",
       "      <td>1</td>\n",
       "      <td>22</td>\n",
       "      <td>0.801</td>\n",
       "      <td>0.12800</td>\n",
       "      <td>0.704</td>\n",
       "      <td>0.000000</td>\n",
       "      <td>0.0952</td>\n",
       "      <td>-9.034</td>\n",
       "      <td>0.0318</td>\n",
       "      <td>124.049</td>\n",
       "      <td>4</td>\n",
       "      <td>0.962</td>\n",
       "    </tr>\n",
       "    <tr>\n",
       "      <td>3</td>\n",
       "      <td>クリームソーダ</td>\n",
       "      <td>クリームソーダ</td>\n",
       "      <td>INNER JOURNEY</td>\n",
       "      <td>2020-03-18</td>\n",
       "      <td>210139</td>\n",
       "      <td>1</td>\n",
       "      <td>34</td>\n",
       "      <td>0.665</td>\n",
       "      <td>0.00149</td>\n",
       "      <td>0.668</td>\n",
       "      <td>0.000000</td>\n",
       "      <td>0.6150</td>\n",
       "      <td>-10.100</td>\n",
       "      <td>0.0275</td>\n",
       "      <td>107.547</td>\n",
       "      <td>4</td>\n",
       "      <td>0.902</td>\n",
       "    </tr>\n",
       "    <tr>\n",
       "      <td>4</td>\n",
       "      <td>広い世界の端っこ</td>\n",
       "      <td>広い世界の端っこ</td>\n",
       "      <td>Mai</td>\n",
       "      <td>2020-08-16</td>\n",
       "      <td>266341</td>\n",
       "      <td>1</td>\n",
       "      <td>14</td>\n",
       "      <td>0.770</td>\n",
       "      <td>0.21600</td>\n",
       "      <td>0.453</td>\n",
       "      <td>0.000017</td>\n",
       "      <td>0.0889</td>\n",
       "      <td>-11.125</td>\n",
       "      <td>0.0307</td>\n",
       "      <td>122.999</td>\n",
       "      <td>4</td>\n",
       "      <td>0.536</td>\n",
       "    </tr>\n",
       "  </tbody>\n",
       "</table>\n",
       "</div>"
      ],
      "text/plain": [
       "             name           album         artist release_date  length  mode  \\\n",
       "0             You             You           Axol   2016-11-06  198750     1   \n",
       "1  Make you happy  Make you happy          NiziU   2020-06-30  184520     1   \n",
       "2        グランマのレシピ        グランマのレシピ            Mai   2020-08-15  223064     1   \n",
       "3         クリームソーダ         クリームソーダ  INNER JOURNEY   2020-03-18  210139     1   \n",
       "4        広い世界の端っこ        広い世界の端っこ            Mai   2020-08-16  266341     1   \n",
       "\n",
       "   popularity  danceability  acousticness  energy  instrumentalness  liveness  \\\n",
       "0          53         0.702       0.01350   0.911          0.020400    0.1730   \n",
       "1          74         0.780       0.04360   0.885          0.000028    0.1050   \n",
       "2          22         0.801       0.12800   0.704          0.000000    0.0952   \n",
       "3          34         0.665       0.00149   0.668          0.000000    0.6150   \n",
       "4          14         0.770       0.21600   0.453          0.000017    0.0889   \n",
       "\n",
       "   loudness  speechiness    tempo  time_signature  valence  \n",
       "0    -3.301       0.0375  128.005               4    0.431  \n",
       "1    -3.745       0.1220  160.087               4    0.808  \n",
       "2    -9.034       0.0318  124.049               4    0.962  \n",
       "3   -10.100       0.0275  107.547               4    0.902  \n",
       "4   -11.125       0.0307  122.999               4    0.536  "
      ]
     },
     "execution_count": 38,
     "metadata": {},
     "output_type": "execute_result"
    }
   ],
   "source": [
    "df.head()"
   ]
  },
  {
   "cell_type": "code",
   "execution_count": 40,
   "metadata": {},
   "outputs": [],
   "source": [
    "#csvファイルに保存する\n",
    "df.to_csv(\"spotify_utada_songdate.csv\",index=False)"
   ]
  },
  {
   "cell_type": "code",
   "execution_count": 45,
   "metadata": {},
   "outputs": [
    {
     "data": {
      "text/plain": [
       "<matplotlib.collections.PathCollection at 0x7f7999150d50>"
      ]
     },
     "execution_count": 45,
     "metadata": {},
     "output_type": "execute_result"
    },
    {
     "data": {
      "image/png": "[encoded data removed]",
      "text/plain": [
       "<Figure size 432x288 with 1 Axes>"
      ]
     },
     "metadata": {
      "needs_background": "light"
     },
     "output_type": "display_data"
    }
   ],
   "source": [
    "plt.scatter(df['name'],df['energy'],alpha=0.2)"
   ]
  },
  {
   "cell_type": "code",
   "execution_count": 46,
   "metadata": {},
   "outputs": [
    {
     "data": {
      "text/plain": [
       "0.7518080000000001"
      ]
     },
     "execution_count": 46,
     "metadata": {},
     "output_type": "execute_result"
    }
   ],
   "source": [
    "df['energy'].mean()"
   ]
  },
  {
   "cell_type": "code",
   "execution_count": 49,
   "metadata": {},
   "outputs": [
    {
     "data": {
      "image/png": "[encoded data removed]",
      "text/plain": [
       "<Figure size 432x288 with 1 Axes>"
      ]
     },
     "metadata": {
      "needs_background": "light"
     },
     "output_type": "display_data"
    }
   ],
   "source": [
    "plt.scatter(df['energy'],df['popularity'],alpha=0.2)\n",
    "plt.savefig('energy-popularity.png')"
   ]
  },
  {
   "cell_type": "code",
   "execution_count": null,
   "metadata": {},
   "outputs": [],
   "source": []
  }
 ],
 "metadata": {
  "kernelspec": {
   "display_name": "Python 3",
   "language": "python",
   "name": "python3"
  },
  "language_info": {
   "codemirror_mode": {
    "name": "ipython",
    "version": 3
   },
   "file_extension": ".py",
   "mimetype": "text/x-python",
   "name": "python",
   "nbconvert_exporter": "python",
   "pygments_lexer": "ipython3",
   "version": "3.7.4"
  }
 },
 "nbformat": 4,
 "nbformat_minor": 4
}
